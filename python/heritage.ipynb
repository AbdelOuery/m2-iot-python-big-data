{
 "cells": [
  {
   "cell_type": "code",
   "execution_count": 6,
   "metadata": {},
   "outputs": [],
   "source": [
    "class DateNaissance(object):\n",
    "    def __init__(self, d, m, y):\n",
    "        self.jour = d\n",
    "        self.mois = m\n",
    "        self.annee = y\n",
    "         \n",
    "    def ToString(self):\n",
    "        return \"%02d / %02d / %d\" % (self.jour, self.mois, self.annee)"
   ]
  },
  {
   "cell_type": "code",
   "execution_count": 7,
   "metadata": {},
   "outputs": [],
   "source": [
    "class Personne(object):\n",
    "    def __init__(self,nom, prenom, date_naissance):\n",
    "        self.nom = nom \n",
    "        self.prenom = prenom\n",
    "        self.date_naissance = date_naissance\n",
    "         \n",
    "    def afficher(self):\n",
    "        print(self.nom + \" \\n\" + self.prenom + \" \\n\" + self.date_naissance.ToString())"
   ]
  },
  {
   "cell_type": "code",
   "execution_count": 20,
   "metadata": {},
   "outputs": [],
   "source": [
    "class Employe(Personne):\n",
    "    def __init__(self, nom, prenom, date_naissance, salaire):\n",
    "        Personne.__init__(self, nom, prenom, date_naissance)\n",
    "        self.salaire = salaire\n",
    "        \n",
    "    def afficher(self):\n",
    "        Personne.afficher(self)\n",
    "        print(\"Salaire: %.02f\" % self.salaire)"
   ]
  },
  {
   "cell_type": "code",
   "execution_count": 21,
   "metadata": {},
   "outputs": [],
   "source": [
    "class Chef(Employe):\n",
    "    def __init__(self, nom, prenom, date_naissance, salaire, service):\n",
    "        Employe.__init__(self, nom, prenom, date_naissance, salaire)\n",
    "        self.service = service\n",
    "        \n",
    "    def afficher(self):\n",
    "        Employe.afficher(self)\n",
    "        print(self.service)"
   ]
  },
  {
   "cell_type": "code",
   "execution_count": 22,
   "metadata": {},
   "outputs": [
    {
     "name": "stdout",
     "output_type": "stream",
     "text": [
      "Ilyass \n",
      "Math \n",
      "08 / 02 / 1997\n"
     ]
    }
   ],
   "source": [
    "P1 = Personne(\"Ilyass\", \"Math\", DateNaissance(8, 2, 1997))\n",
    "P1.afficher()"
   ]
  },
  {
   "cell_type": "code",
   "execution_count": 23,
   "metadata": {},
   "outputs": [
    {
     "name": "stdout",
     "output_type": "stream",
     "text": [
      "Ilyass \n",
      "Math \n",
      "08 / 02 / 1997\n",
      "Salaire: 500000.00\n"
     ]
    }
   ],
   "source": [
    "E1 = Employe(\"Ilyass\", \"Math\", DateNaissance(8, 2, 1997), 500000)\n",
    "E1.afficher()"
   ]
  },
  {
   "cell_type": "code",
   "execution_count": 24,
   "metadata": {},
   "outputs": [
    {
     "name": "stdout",
     "output_type": "stream",
     "text": [
      "Ilyass \n",
      "Math \n",
      "08 / 02 / 1997\n",
      "Salaire: 500000.00\n",
      "Ressource humaine\n"
     ]
    }
   ],
   "source": [
    "Ch1 = Chef(\"Ilyass\", \"Math\", DateNaissance(8, 2, 1997), 500000, \"Ressource humaine\")\n",
    "Ch1.afficher()"
   ]
  },
  {
   "cell_type": "code",
   "execution_count": null,
   "metadata": {},
   "outputs": [],
   "source": []
  },
  {
   "cell_type": "code",
   "execution_count": null,
   "metadata": {},
   "outputs": [],
   "source": []
  }
 ],
 "metadata": {
  "kernelspec": {
   "display_name": "Python 3",
   "language": "python",
   "name": "python3"
  },
  "language_info": {
   "codemirror_mode": {
    "name": "ipython",
    "version": 3
   },
   "file_extension": ".py",
   "mimetype": "text/x-python",
   "name": "python",
   "nbconvert_exporter": "python",
   "pygments_lexer": "ipython3",
   "version": "3.5.3"
  }
 },
 "nbformat": 4,
 "nbformat_minor": 4
}
